{
 "cells": [
  {
   "cell_type": "code",
   "execution_count": 3,
   "metadata": {
    "id": "71f3B6CWaroo"
   },
   "outputs": [],
   "source": [
    "import torch\n",
    "import torch.nn as nn\n",
    "import torch.nn.functional as f\n",
    "from torch.utils.data import TensorDataset, DataLoader\n",
    "import sys\n",
    "import numpy as np\n",
    "from numpy import load\n",
    "\n",
    "\n",
    "# numpy.set_printoptions(threshold=sys.maxsize)"
   ]
  },
  {
   "cell_type": "markdown",
   "metadata": {},
   "source": [
    "# Description of the Dataset"
   ]
  },
  {
   "cell_type": "code",
   "execution_count": 18,
   "metadata": {
    "colab": {
     "base_uri": "https://localhost:8080/"
    },
    "id": "GPeh3HMaVeR_",
    "outputId": "0099c36f-3986-40f5-e3ab-759a2048d221"
   },
   "outputs": [
    {
     "name": "stdout",
     "output_type": "stream",
     "text": [
      "x: Sequences \n",
      "y: Labels \n",
      "\n",
      "x\n",
      "y\n",
      "('\\nSequences: ', (8920, 1182), '\\nLabels', (8920,))\n"
     ]
    }
   ],
   "source": [
    "# Decription of the dataset\n",
    "data = load('dataset.npz')\n",
    "lst = data.files\n",
    "\n",
    "print(\"x: Sequences \\ny: Labels \\n\")\n",
    "\n",
    "for item in lst:\n",
    "    print(item)\n",
    "\n",
    "print('\\nSequences: ',data['x'].shape,'\\nLabels', data['y'].shape)\n"
   ]
  },
  {
   "cell_type": "code",
   "execution_count": 19,
   "metadata": {
    "id": "H07g7P_Ibo8O"
   },
   "outputs": [],
   "source": [
    "# temp = torch.zeros((16,16), dtype=torch.int)\n",
    "# temp"
   ]
  },
  {
   "cell_type": "markdown",
   "metadata": {},
   "source": [
    "# One Hot Encoding Conversion"
   ]
  },
  {
   "cell_type": "code",
   "execution_count": 20,
   "metadata": {
    "id": "EFvxYncebUb7"
   },
   "outputs": [],
   "source": [
    "'''\n",
    "    One hot encoding function\n",
    "    args: 'data'\n",
    "            Type: a single np array (1182, 16)\n",
    "    return: 'New Tensor'\n",
    "            Takes the np array, finds the one hot encoding char\n",
    "            Creates a new tensor and returns it (1182, 16, 16)\n",
    "'''\n",
    "def one_hot_encoded(data): #1182*16 to 1182*16*16\n",
    "  new_tensor = torch.zeros((1182, 16,16))\n",
    "  for i in range(data.shape[0]):\n",
    "    row,col=data[i],data[i]\n",
    "    new_tensor[i,row,col]=1\n",
    "  return new_tensor"
   ]
  },
  {
   "cell_type": "code",
   "execution_count": 21,
   "metadata": {},
   "outputs": [],
   "source": [
    "from tqdm import tqdm"
   ]
  },
  {
   "cell_type": "code",
   "execution_count": 23,
   "metadata": {
    "colab": {
     "base_uri": "https://localhost:8080/"
    },
    "id": "W8Tfpkj_imbL",
    "outputId": "0542b0d9-5be0-42d6-d457-587fa5596dad"
   },
   "outputs": [
    {
     "name": "stderr",
     "output_type": "stream",
     "text": [
      "  0%|          | 4/8920 [00:00<03:58, 37.32it/s]"
     ]
    },
    {
     "name": "stdout",
     "output_type": "stream",
     "text": [
      "torch.Size([8920, 1182, 16, 16])\n"
     ]
    },
    {
     "name": "stderr",
     "output_type": "stream",
     "text": [
      "100%|██████████| 8920/8920 [03:47<00:00, 39.24it/s]"
     ]
    },
    {
     "name": "stdout",
     "output_type": "stream",
     "text": [
      "torch.Size([8920, 1182, 16, 16])\n"
     ]
    },
    {
     "name": "stderr",
     "output_type": "stream",
     "text": [
      "\n"
     ]
    }
   ],
   "source": [
    "# Convert all the sequences to one hot encoded matrices of size 16*16\n",
    "\n",
    "# Load the sequences\n",
    "new_data = data['x'].astype(int)\n",
    "np.random.shuffle(new_data)\n",
    "sequences_n = torch.zeros(new_data.shape[0], new_data.shape[1], 16,16)\n",
    "print(sequences_n.size())\n",
    "\n",
    "# Pass the sequences to one hot encoding function\n",
    "for i in tqdm(range(new_data.shape[0])):\n",
    "    sequences_n[i]=one_hot_encoded(new_data[i])\n",
    "#     if(i%200 ==0):\n",
    "#         print(i,' hogae')\n",
    "print(sequences_n.size())\n",
    "\n",
    "# Load and convert the labels to torch tensor\n",
    "labels = torch.from_numpy(data['y'].astype(long))"
   ]
  },
  {
   "cell_type": "markdown",
   "metadata": {},
   "source": [
    "# Creation of Dataloaders"
   ]
  },
  {
   "cell_type": "code",
   "execution_count": 24,
   "metadata": {
    "colab": {
     "base_uri": "https://localhost:8080/"
    },
    "id": "i6PdspGWS7Er",
    "outputId": "e9db754d-f435-4feb-cb1c-7a9fdad81e54"
   },
   "outputs": [],
   "source": [
    "# Create the dataset\n",
    "full_dataset = TensorDataset(sequences_n, labels)\n",
    "\n",
    "# Split the dataset\n",
    "train_ds, test_ds = torch.utils.data.random_split(full_dataset, (6320, 2600))\n",
    "\n",
    "# Print and confirm the dataset\n",
    "# print(train_ds, test_ds)\n",
    "# print(len(train_ds.indices), len(test_ds))\n",
    "# print(train_ds.indices, test_ds.indices)\n",
    "\n",
    "# Create the train data loader\n",
    "train_dataloader = DataLoader(train_ds, batch_size=32, shuffle=False, sampler=None,\n",
    "           batch_sampler=None, num_workers=0, collate_fn=None,\n",
    "           pin_memory=False, drop_last=False, timeout=0,\n",
    "           worker_init_fn=None)\n",
    "\n",
    "# Create the test data loader\n",
    "test_dataloader = DataLoader(test_ds, batch_size=32, shuffle=False, sampler=None,\n",
    "           batch_sampler=None, num_workers=0, collate_fn=None,\n",
    "           pin_memory=False, drop_last=False, timeout=0,\n",
    "           worker_init_fn=None)\n"
   ]
  },
  {
   "cell_type": "markdown",
   "metadata": {
    "id": "bia5Q7vkxYQI"
   },
   "source": [
    "# Creation of the Model"
   ]
  },
  {
   "cell_type": "code",
   "execution_count": 25,
   "metadata": {
    "id": "EDK1AZAjiuhi"
   },
   "outputs": [],
   "source": [
    "\n",
    "\n",
    "'''\n",
    "    Type: RCPClass\n",
    "    The class conatains the layers of the Dense and Transition blocks\n",
    "    \n",
    "    Args: Takes the dataset (batch size, sequence_size, w, h)\n",
    "    return: Logits (Probabilities of the all 13 classes)\n",
    "'''\n",
    "\n",
    "# Create the RCPNet Class\n",
    "class RPCNet(nn.Module):\n",
    "  def __init__(self, in_channels):\n",
    "    super(RPCNet, self).__init__()\n",
    "    \n",
    "    self.in_channels = in_channels\n",
    "    self.conv1 = nn.Conv2d(in_channels=1182, out_channels=128, kernel_size=(16,17), padding=9)\n",
    "    \n",
    "    # First Dense Net Block\n",
    "    self.DenseBlock1 = DenseBlock(128)\n",
    "    \n",
    "    # Second Dense Net Block\n",
    "    self.DenseBlock2 = DenseBlock(256)\n",
    "    \n",
    "    # Third Dense Net Block\n",
    "    self.DenseBlock3 = DenseBlock(512)\n",
    "    \n",
    "    # Transition Block 1\n",
    "    self.pos_dense1 = nn.Sequential(\n",
    "          nn.BatchNorm2d(128),\n",
    "          nn.ReLU(inplace=True),\n",
    "          nn.Conv2d(in_channels=128,out_channels=256,kernel_size=(1,1)),\n",
    "          nn.MaxPool2d(1,4))\n",
    "    \n",
    "    # Transition Block 2\n",
    "    self.pos_dense2 = nn.Sequential(\n",
    "          nn.BatchNorm2d(256),\n",
    "          nn.ReLU(inplace=True),\n",
    "          nn.Conv2d(in_channels=256,out_channels=512,kernel_size=(1,1)),\n",
    "          nn.MaxPool2d(1,4))\n",
    "    \n",
    "    # Transition Block 3\n",
    "    self.pos_dense3 = nn.Sequential(\n",
    "          nn.BatchNorm2d(512),\n",
    "          nn.ReLU(inplace=True),\n",
    "          nn.Conv2d(in_channels=512,out_channels=1024,kernel_size=(1,1)),\n",
    "          nn.MaxPool2d(1,4))\n",
    "    \n",
    "    # Final linear layer, can be used with a Flatten Layer \n",
    "    self.f= nn.Flatten()\n",
    "    self.Linear = nn.Linear(22528, 13)\n",
    "      \n",
    "  def forward(self, input):\n",
    "    # input = input.reshape(input.size(0), input.size(2), input.size(1))\n",
    "#     print(input.size())\n",
    "    out = self.conv1(input)\n",
    "#     print(out.size())\n",
    "    \n",
    "#     print(\"conv1 shape\", out.size())\n",
    "    weight = self.conv1.weight.data.cpu().numpy()\n",
    "#     print(\"k:\",weight.shape)\n",
    "\n",
    "    out= self.DenseBlock1(out)\n",
    "\n",
    "    out= self.pos_dense1(out)\n",
    "#     print(out.size())\n",
    "\n",
    "    out= self.DenseBlock2(out)\n",
    "#     print(out.size())\n",
    "    \n",
    "    out = self.pos_dense2(out)\n",
    "#     print(out.size())\n",
    "    \n",
    "    out= self.DenseBlock3(out)\n",
    "#     print(out.size())\n",
    "    \n",
    "    out = self.pos_dense3(out)\n",
    "#     print(out.size())\n",
    "    \n",
    "    logits = self.f(out)\n",
    "    \n",
    "    logits= self.Linear(logits)\n",
    "#     print('logits size',logits.size())\n",
    "#     print(logits)\n",
    "\n",
    "    return logits\n",
    "\n",
    "'''\n",
    "    Type: Class DenseBlock\n",
    "          Contains Batch Normalization, ReLU, Conv2D\n",
    "          \n",
    "    Input: Declaration: Num of input channels \n",
    "           Forward: Output of previous layer\n",
    "    \n",
    "    Can be used before transition blocks or other layers\n",
    "'''\n",
    "class DenseBlock(nn.Module):\n",
    "  def __init__(self, num_features):\n",
    "    super(DenseBlock, self).__init__()\n",
    "\n",
    "    self.Block1 = Block(num_features) # applies relu and BN\n",
    "    self.Block2 = Block(num_features)\n",
    "\n",
    "  def forward(self, o_input):\n",
    "\n",
    "    block1_res = self.Block1(o_input)\n",
    "#     print(\"i and c in b \",block1_res.size(), o_input.size())\n",
    "    block2_res = (torch.cat((block1_res, o_input), dim=2)) # o_inpu (concat) block1res\n",
    "#     print(block2_res.size())\n",
    "#     res = torch.cat((block1_res, block2_res, o_input), dim=2)\n",
    "#     print(res.size())\n",
    "    return  torch.cat((block1_res, block2_res, o_input), dim=2) # concat, block1_res, block2_res, o_input\n",
    "\n",
    "'''\n",
    "    Type: Block Class\n",
    "    \n",
    "    Input: Declaration: Num of input channels \n",
    "           Forward: Output of the previous layer\n",
    "           \n",
    "    return: Concatenated input and output of the BN, ReLU, Conv2D\n",
    "'''\n",
    "\n",
    "class Block(nn.Module):\n",
    "  def __init__(self, num_features):\n",
    "    super(Block, self).__init__()\n",
    "    self.num_features = num_features\n",
    "\n",
    "    self.BN = nn.BatchNorm2d(self.num_features) # try 2d\n",
    "    self.conv1 = nn.Conv2d(in_channels=self.num_features, out_channels=num_features, kernel_size=(16,17), padding=8)\n",
    "  \n",
    "  def forward(self, input):\n",
    "    res_relu = f.relu(self.BN(input))\n",
    "    res_relu_conv = self.conv1(input)\n",
    "#     print(\"w c block\",self.conv1.weight.data.cpu().numpy().shape)\n",
    "\n",
    "    return res_relu_conv"
   ]
  },
  {
   "cell_type": "markdown",
   "metadata": {},
   "source": [
    "# Initializaiton of Model, Optimizer, Loss function "
   ]
  },
  {
   "cell_type": "code",
   "execution_count": 26,
   "metadata": {
    "id": "QCPdl3wT9VPC"
   },
   "outputs": [],
   "source": [
    "model = RPCNet(1182)\n",
    "model=model.cuda()\n",
    "optimizer = torch.optim.Adam(model.parameters(), lr=0.001)\n",
    "loss_function = nn.CrossEntropyLoss()"
   ]
  },
  {
   "cell_type": "markdown",
   "metadata": {},
   "source": [
    "# Train Loop"
   ]
  },
  {
   "cell_type": "code",
   "execution_count": 27,
   "metadata": {
    "colab": {
     "base_uri": "https://localhost:8080/"
    },
    "id": "w70Z1THM1H59",
    "outputId": "59c8053b-8905-489f-f509-0b177dbe98ce"
   },
   "outputs": [
    {
     "ename": "RuntimeError",
     "evalue": "CUDA out of memory. Tried to allocate 272.00 MiB (GPU 0; 31.74 GiB total capacity; 2.10 GiB already allocated; 183.19 MiB free; 2.18 GiB reserved in total by PyTorch)",
     "output_type": "error",
     "traceback": [
      "\u001b[0;31m---------------------------------------------------------------------------\u001b[0m",
      "\u001b[0;31mRuntimeError\u001b[0m                              Traceback (most recent call last)",
      "\u001b[0;32m<ipython-input-27-c53e0bd4fe01>\u001b[0m in \u001b[0;36m<module>\u001b[0;34m()\u001b[0m\n\u001b[1;32m     12\u001b[0m         \u001b[0moptimizer\u001b[0m\u001b[0;34m.\u001b[0m\u001b[0mzero_grad\u001b[0m\u001b[0;34m(\u001b[0m\u001b[0;34m)\u001b[0m\u001b[0;34m\u001b[0m\u001b[0m\n\u001b[1;32m     13\u001b[0m         \u001b[0mloss\u001b[0m\u001b[0;34m.\u001b[0m\u001b[0mbackward\u001b[0m\u001b[0;34m(\u001b[0m\u001b[0;34m)\u001b[0m\u001b[0;34m\u001b[0m\u001b[0m\n\u001b[0;32m---> 14\u001b[0;31m         \u001b[0moptimizer\u001b[0m\u001b[0;34m.\u001b[0m\u001b[0mstep\u001b[0m\u001b[0;34m(\u001b[0m\u001b[0;34m)\u001b[0m\u001b[0;34m\u001b[0m\u001b[0m\n\u001b[0m\u001b[1;32m     15\u001b[0m         \u001b[0mtotal_loss_i\u001b[0m \u001b[0;34m+=\u001b[0m \u001b[0mloss\u001b[0m\u001b[0;34m.\u001b[0m\u001b[0mitem\u001b[0m\u001b[0;34m(\u001b[0m\u001b[0;34m)\u001b[0m\u001b[0;34m\u001b[0m\u001b[0m\n\u001b[1;32m     16\u001b[0m \u001b[0;34m\u001b[0m\u001b[0m\n",
      "\u001b[0;32m/home/ahtisham/.local/lib/python2.7/site-packages/torch/optim/adam.pyc\u001b[0m in \u001b[0;36mstep\u001b[0;34m(self, closure)\u001b[0m\n\u001b[1;32m     75\u001b[0m                     \u001b[0mstate\u001b[0m\u001b[0;34m[\u001b[0m\u001b[0;34m'exp_avg'\u001b[0m\u001b[0;34m]\u001b[0m \u001b[0;34m=\u001b[0m \u001b[0mtorch\u001b[0m\u001b[0;34m.\u001b[0m\u001b[0mzeros_like\u001b[0m\u001b[0;34m(\u001b[0m\u001b[0mp\u001b[0m\u001b[0;34m.\u001b[0m\u001b[0mdata\u001b[0m\u001b[0;34m,\u001b[0m \u001b[0mmemory_format\u001b[0m\u001b[0;34m=\u001b[0m\u001b[0mtorch\u001b[0m\u001b[0;34m.\u001b[0m\u001b[0mpreserve_format\u001b[0m\u001b[0;34m)\u001b[0m\u001b[0;34m\u001b[0m\u001b[0m\n\u001b[1;32m     76\u001b[0m                     \u001b[0;31m# Exponential moving average of squared gradient values\u001b[0m\u001b[0;34m\u001b[0m\u001b[0;34m\u001b[0m\u001b[0m\n\u001b[0;32m---> 77\u001b[0;31m                     \u001b[0mstate\u001b[0m\u001b[0;34m[\u001b[0m\u001b[0;34m'exp_avg_sq'\u001b[0m\u001b[0;34m]\u001b[0m \u001b[0;34m=\u001b[0m \u001b[0mtorch\u001b[0m\u001b[0;34m.\u001b[0m\u001b[0mzeros_like\u001b[0m\u001b[0;34m(\u001b[0m\u001b[0mp\u001b[0m\u001b[0;34m.\u001b[0m\u001b[0mdata\u001b[0m\u001b[0;34m,\u001b[0m \u001b[0mmemory_format\u001b[0m\u001b[0;34m=\u001b[0m\u001b[0mtorch\u001b[0m\u001b[0;34m.\u001b[0m\u001b[0mpreserve_format\u001b[0m\u001b[0;34m)\u001b[0m\u001b[0;34m\u001b[0m\u001b[0m\n\u001b[0m\u001b[1;32m     78\u001b[0m                     \u001b[0;32mif\u001b[0m \u001b[0mamsgrad\u001b[0m\u001b[0;34m:\u001b[0m\u001b[0;34m\u001b[0m\u001b[0m\n\u001b[1;32m     79\u001b[0m                         \u001b[0;31m# Maintains max of all exp. moving avg. of sq. grad. values\u001b[0m\u001b[0;34m\u001b[0m\u001b[0;34m\u001b[0m\u001b[0m\n",
      "\u001b[0;31mRuntimeError\u001b[0m: CUDA out of memory. Tried to allocate 272.00 MiB (GPU 0; 31.74 GiB total capacity; 2.10 GiB already allocated; 183.19 MiB free; 2.18 GiB reserved in total by PyTorch)"
     ]
    }
   ],
   "source": [
    "total_loss_e = 0.0\n",
    "\n",
    "plot_loss = []\n",
    "for epoch in range(50):\n",
    "    total_loss_i = 0\n",
    "    total=0.0\n",
    "    correct=0.0\n",
    "    for i, batch in enumerate(train_dataloader):\n",
    "        x,y=batch\n",
    "        logits = model(x.cuda())\n",
    "        loss = loss_function(logits,y.cuda())\n",
    "        optimizer.zero_grad()\n",
    "        loss.backward()\n",
    "        optimizer.step()\n",
    "        total_loss_i += loss.item()\n",
    "        \n",
    "        _, predicted = torch.max(logits.data, 1)\n",
    "        total += y.size(0)\n",
    "        correct += (predicted.cpu() == y).sum().item()\n",
    "        if i%50 ==0:\n",
    "            print(\"Iter : {}  Train Loss : {}\".format(i,loss.item()))\n",
    "    total_loss_e+=total_loss_i/len(train_dataloader)\n",
    "    print(\"Epoch  {} :   Train Loss : {}  Accuracy : {}\".format(epoch, total_loss_e, (100 * (correct / total))))\n",
    "    plot_loss.append(total_loss_e)\n",
    "    total_loss_e=0\n",
    "    \n",
    "\n",
    "    \n",
    "\n"
   ]
  },
  {
   "cell_type": "code",
   "execution_count": 311,
   "metadata": {
    "id": "Y_-KiuH9911J"
   },
   "outputs": [
    {
     "data": {
      "image/png": "[encoded data removed]",
      "text/plain": [
       "<Figure size 432x288 with 1 Axes>"
      ]
     },
     "metadata": {
      "needs_background": "light"
     },
     "output_type": "display_data"
    }
   ],
   "source": [
    "import matplotlib.pyplot as plt\n",
    "plt.plot(plot_loss)\n",
    "plt.show()"
   ]
  },
  {
   "cell_type": "code",
   "execution_count": 312,
   "metadata": {},
   "outputs": [
    {
     "name": "stdout",
     "output_type": "stream",
     "text": [
      "Iter : 0  Test Loss : 2.94496107101\n",
      "Iter : 1  Test Loss : 2.45704984665\n",
      "Iter : 2  Test Loss : 2.03724956512\n",
      "Iter : 3  Test Loss : 2.57082843781\n",
      "Iter : 4  Test Loss : 5.34302186966\n",
      "Iter : 5  Test Loss : 1.75534343719\n",
      "Iter : 6  Test Loss : 1.78849947453\n",
      "Iter : 7  Test Loss : 3.88453674316\n",
      "Iter : 8  Test Loss : 2.37283420563\n",
      "Iter : 9  Test Loss : 0.776594400406\n",
      "Iter : 10  Test Loss : 5.25816011429\n",
      "Iter : 11  Test Loss : 1.26096749306\n",
      "Iter : 12  Test Loss : 3.16063666344\n",
      "Iter : 13  Test Loss : 3.2196290493\n",
      "Iter : 14  Test Loss : 2.58067417145\n",
      "Iter : 15  Test Loss : 2.39291763306\n",
      "Iter : 16  Test Loss : 2.45247483253\n",
      "Iter : 17  Test Loss : 2.16455054283\n",
      "Iter : 18  Test Loss : 2.19094610214\n",
      "Iter : 19  Test Loss : 2.048869133\n",
      "Iter : 20  Test Loss : 3.94749498367\n",
      "Iter : 21  Test Loss : 1.6768206358\n",
      "Iter : 22  Test Loss : 1.79274606705\n",
      "Iter : 23  Test Loss : 2.600055933\n",
      "Iter : 24  Test Loss : 4.39622020721\n",
      "Iter : 25  Test Loss : 2.1419699192\n",
      "Iter : 26  Test Loss : 1.97283899784\n",
      "Iter : 27  Test Loss : 2.50723648071\n",
      "Iter : 28  Test Loss : 2.83373165131\n",
      "Iter : 29  Test Loss : 4.01042556763\n",
      "Iter : 30  Test Loss : 1.93126702309\n",
      "Iter : 31  Test Loss : 2.10212492943\n",
      "Iter : 32  Test Loss : 1.87583470345\n",
      "Iter : 33  Test Loss : 2.10917448997\n",
      "Iter : 34  Test Loss : 3.12763953209\n",
      "Iter : 35  Test Loss : 1.67030858994\n",
      "Iter : 36  Test Loss : 3.53262114525\n",
      "Iter : 37  Test Loss : 2.36229538918\n",
      "Iter : 38  Test Loss : 2.93284916878\n",
      "Iter : 39  Test Loss : 1.68035924435\n",
      "Iter : 40  Test Loss : 1.74189507961\n",
      "Iter : 41  Test Loss : 1.2951823473\n",
      "Iter : 42  Test Loss : 1.25837206841\n",
      "Iter : 43  Test Loss : 3.03675603867\n",
      "Iter : 44  Test Loss : 0.61016112566\n",
      "Iter : 45  Test Loss : 1.95963704586\n",
      "Iter : 46  Test Loss : 3.92857336998\n",
      "Iter : 47  Test Loss : 2.44339394569\n",
      "Iter : 48  Test Loss : 0.966798007488\n",
      "Iter : 49  Test Loss : 1.14876639843\n",
      "Iter : 50  Test Loss : 0.98660248518\n",
      "Iter : 51  Test Loss : 2.2427110672\n",
      "Iter : 52  Test Loss : 1.8940217495\n",
      "Iter : 53  Test Loss : 2.55012249947\n",
      "Iter : 54  Test Loss : 2.63824510574\n",
      "Iter : 55  Test Loss : 2.96804404259\n",
      "Iter : 56  Test Loss : 2.61360836029\n",
      "Iter : 57  Test Loss : 1.67857384682\n",
      "Iter : 58  Test Loss : 4.36670875549\n",
      "Iter : 59  Test Loss : 1.74821519852\n",
      "Iter : 60  Test Loss : 2.72262907028\n",
      "Iter : 61  Test Loss : 3.17984676361\n",
      "Iter : 62  Test Loss : 1.38008284569\n",
      "Iter : 63  Test Loss : 1.7200217247\n",
      "Iter : 64  Test Loss : 2.72861289978\n",
      "Iter : 65  Test Loss : 2.42266631126\n",
      "Iter : 66  Test Loss : 2.41111946106\n",
      "Iter : 67  Test Loss : 1.10315811634\n",
      "Iter : 68  Test Loss : 2.28860735893\n",
      "Iter : 69  Test Loss : 2.9467446804\n",
      "Iter : 70  Test Loss : 1.96052312851\n",
      "Iter : 71  Test Loss : 1.35037541389\n",
      "Iter : 72  Test Loss : 2.26676988602\n",
      "Iter : 73  Test Loss : 0.978027701378\n",
      "Iter : 74  Test Loss : 2.597884655\n",
      "Iter : 75  Test Loss : 2.57438516617\n",
      "Iter : 76  Test Loss : 1.85042774677\n",
      "Iter : 77  Test Loss : 4.92865943909\n",
      "Iter : 78  Test Loss : 2.4026632309\n",
      "Iter : 79  Test Loss : 3.08066225052\n",
      "Iter : 80  Test Loss : 3.69449090958\n",
      "Iter : 81  Test Loss : 2.90404558182\n",
      " Accuracy : 71.9230769231\n"
     ]
    }
   ],
   "source": [
    "total_loss_i = 0\n",
    "total=0.0\n",
    "correct=0.0\n",
    "model.eval()\n",
    "for i, batch in enumerate(test_dataloader):\n",
    "    x,y=batch\n",
    "    logits = model(x.cuda())\n",
    "    loss = loss_function(logits,y.cuda())\n",
    "    total_loss_i += loss.item()\n",
    "    _, predicted = torch.max(logits.data, 1)\n",
    "    total += y.size(0)\n",
    "    correct += (predicted.cpu() == y).sum().item()\n",
    "    print(\"Iter : {}  Test Loss : {}\".format(i,loss.item()))\n",
    "    \n",
    "# total_loss_e+=total_loss_i/len(test_dataloader)\n",
    "print(\" Accuracy : {}\".format( (100 * (correct / total))))\n"
   ]
  },
  {
   "cell_type": "markdown",
   "metadata": {},
   "source": [
    "# Test the Model"
   ]
  },
  {
   "cell_type": "code",
   "execution_count": 313,
   "metadata": {},
   "outputs": [
    {
     "name": "stdout",
     "output_type": "stream",
     "text": [
      "('Ground Truth:', tensor([ 4,  6,  3,  8,  2,  0,  9,  5,  6, 10, 11,  6,  6,  1,  3,  8,  6, 12,\n",
      "         3,  0,  9,  2, 12,  0,  5,  5,  5,  4,  5,  0,  1, 11]))\n",
      "('Predictions', torch.return_types.max(\n",
      "values=tensor([14.4684, 85.1889,  9.1602,  8.8477,  4.4606, 36.2412,  6.6645, 22.4495,\n",
      "        47.1942, 22.3329, 17.2882, 66.4394, 88.0309, 80.9064, 14.3579,  5.3693,\n",
      "        91.5169, 37.7294, 11.4029, 55.8283, 18.3636, 18.2256, 37.0522, 48.3913,\n",
      "        11.2702, 14.9665,  8.7802, 16.0170, 16.6690, 35.1423, 78.4830, 23.1582],\n",
      "       device='cuda:0', grad_fn=<MaxBackward0>),\n",
      "indices=tensor([ 4,  6,  8,  8, 11,  0,  4,  5,  6,  4, 11,  6,  6,  1,  3,  2,  6, 12,\n",
      "         3,  0, 10,  2, 12,  0,  5,  4,  5,  9,  5,  0,  1, 11],\n",
      "       device='cuda:0')))\n"
     ]
    }
   ],
   "source": [
    "x,y = next(iter(test_dataloader))\n",
    "print(\"Ground Truth:\", y)\n",
    "new_arr = x.cuda()\n",
    "preds = model(new_arr)\n",
    "print(\"Predictions\", torch.max(preds, dim =1 ))\n"
   ]
  },
  {
   "cell_type": "code",
   "execution_count": null,
   "metadata": {},
   "outputs": [],
   "source": []
  }
 ],
 "metadata": {
  "colab": {
   "collapsed_sections": [],
   "name": "Untitled27.ipynb",
   "provenance": []
  },
  "kernelspec": {
   "display_name": "Python 3",
   "language": "python",
   "name": "python3"
  },
  "language_info": {
   "codemirror_mode": {
    "name": "ipython",
    "version": 2
   },
   "file_extension": ".py",
   "mimetype": "text/x-python",
   "name": "python",
   "nbconvert_exporter": "python",
   "pygments_lexer": "ipython2",
   "version": "2.7.17"
  }
 },
 "nbformat": 4,
 "nbformat_minor": 2
}
