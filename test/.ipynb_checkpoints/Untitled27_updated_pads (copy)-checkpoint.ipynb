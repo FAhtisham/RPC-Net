{
 "cells": [
  {
   "cell_type": "code",
   "execution_count": 3,
   "metadata": {
    "id": "71f3B6CWaroo"
   },
   "outputs": [],
   "source": [
    "import torch\n",
    "import torch.nn as nn\n",
    "import torch.nn.functional as f\n",
    "from torch.utils.data import TensorDataset, DataLoader\n",
    "import sys\n",
    "import numpy as np\n",
    "from numpy import load\n",
    "\n"
   ]
  },
  {
   "cell_type": "markdown",
   "metadata": {},
   "source": [
    "# Description of the Dataset"
   ]
  },
  {
   "cell_type": "code",
   "execution_count": 2,
   "metadata": {
    "colab": {
     "base_uri": "https://localhost:8080/"
    },
    "id": "GPeh3HMaVeR_",
    "outputId": "0099c36f-3986-40f5-e3ab-759a2048d221"
   },
   "outputs": [
    {
     "name": "stdout",
     "output_type": "stream",
     "text": [
      "x: Sequences \n",
      "y: Labels \n",
      "\n",
      "x\n",
      "y\n",
      "('\\nSequences: ', (8920, 1182), '\\nLabels', (8920,))\n"
     ]
    }
   ],
   "source": [
    "# Decription of the dataset\n",
    "data = load('dataset.npz')\n",
    "lst = data.files\n",
    "\n",
    "print(\"x: Sequences \\ny: Labels \\n\")\n",
    "\n",
    "for item in lst:\n",
    "    print(item)\n",
    "\n",
    "print('\\nSequences: ',data['x'].shape,'\\nLabels', data['y'].shape)\n"
   ]
  },
  {
   "cell_type": "code",
   "execution_count": 6,
   "metadata": {
    "id": "H07g7P_Ibo8O"
   },
   "outputs": [],
   "source": [
    "# temp = torch.zeros((16,16), dtype=torch.int)\n",
    "# temp"
   ]
  },
  {
   "cell_type": "markdown",
   "metadata": {},
   "source": [
    "# One Hot Encoding Conversion"
   ]
  },
  {
   "cell_type": "code",
   "execution_count": 5,
   "metadata": {
    "id": "EFvxYncebUb7"
   },
   "outputs": [],
   "source": [
    "'''\n",
    "    One hot encoding function\n",
    "    args: 'data'\n",
    "            Type: a single np array (1182, 16)\n",
    "    return: 'New Tensor'\n",
    "            Takes the np array, finds the one hot encoding char\n",
    "            Creates a new tensor and returns it (1182, 16, 16)\n",
    "'''\n",
    "def one_hot_encoded(data): #1182*16 to 1182*16*16\n",
    "  new_tensor = torch.zeros((1182, 16,16))\n",
    "  for i in range(data.shape[0]):\n",
    "    row,col=data[i],data[i]\n",
    "    new_tensor[i,row,col]=1\n",
    "  return new_tensor"
   ]
  },
  {
   "cell_type": "code",
   "execution_count": 9,
   "metadata": {
    "colab": {
     "base_uri": "https://localhost:8080/"
    },
    "id": "W8Tfpkj_imbL",
    "outputId": "0542b0d9-5be0-42d6-d457-587fa5596dad"
   },
   "outputs": [
    {
     "name": "stdout",
     "output_type": "stream",
     "text": [
      "torch.Size([8920, 1182, 16, 16])\n"
     ]
    }
   ],
   "source": [
    "# Convert all the sequences to one hot encoded matrices of size 16*16\n",
    "\n",
    "# Load the sequences\n",
    "new_data = data['x'].astype(int)\n",
    "np.random.shuffle(new_data)\n",
    "sequences_n = torch.zeros(new_data.shape[0], new_data.shape[1], 16,16)\n",
    "\n",
    "# Pass the sequences to one hot encoding function\n",
    "for i in range(new_data.shape[0]):\n",
    "    sequences_n[i]=one_hot_encoded(new_data[i])\n",
    "print(sequences_n.size())\n",
    "\n",
    "# Load and convert the labels to torch tensor\n",
    "labels = torch.from_numpy(data['y'].astype(long))"
   ]
  },
  {
   "cell_type": "markdown",
   "metadata": {},
   "source": [
    "# Creation of Dataloaders"
   ]
  },
  {
   "cell_type": "code",
   "execution_count": 10,
   "metadata": {
    "colab": {
     "base_uri": "https://localhost:8080/"
    },
    "id": "i6PdspGWS7Er",
    "outputId": "e9db754d-f435-4feb-cb1c-7a9fdad81e54"
   },
   "outputs": [],
   "source": [
    "# Create the dataset\n",
    "full_dataset = TensorDataset(sequences_n, labels)\n",
    "\n",
    "# Split the dataset\n",
    "train_ds, test_ds = torch.utils.data.random_split(full_dataset, (6320, 2600))\n",
    "\n",
    "# Print and confirm the dataset\n",
    "# print(train_ds, test_ds)\n",
    "# print(len(train_ds.indices), len(test_ds))\n",
    "# print(train_ds.indices, test_ds.indices)\n",
    "\n",
    "# Create the train data loader\n",
    "train_dataloader = DataLoader(train_ds, batch_size=32, shuffle=False, sampler=None,\n",
    "           batch_sampler=None, num_workers=0, collate_fn=None,\n",
    "           pin_memory=False, drop_last=False, timeout=0,\n",
    "           worker_init_fn=None)\n",
    "\n",
    "# Create the test data loader\n",
    "test_dataloader = DataLoader(test_ds, batch_size=32, shuffle=False, sampler=None,\n",
    "           batch_sampler=None, num_workers=0, collate_fn=None,\n",
    "           pin_memory=False, drop_last=False, timeout=0,\n",
    "           worker_init_fn=None)\n"
   ]
  },
  {
   "cell_type": "markdown",
   "metadata": {
    "id": "bia5Q7vkxYQI"
   },
   "source": [
    "# Creation of the Model"
   ]
  },
  {
   "cell_type": "code",
   "execution_count": 11,
   "metadata": {
    "id": "EDK1AZAjiuhi"
   },
   "outputs": [],
   "source": [
    "\n",
    "\n",
    "'''\n",
    "    Type: RCPClass\n",
    "    The class conatains the layers of the Dense and Transition blocks\n",
    "    \n",
    "    Args: Takes the dataset (batch size, sequence_size, w, h)\n",
    "    return: Logits (Probabilities of the all 13 classes)\n",
    "'''\n",
    "\n",
    "# Create the RCPNet Class\n",
    "class RPCNet(nn.Module):\n",
    "  def __init__(self, in_channels):\n",
    "    super(RPCNet, self).__init__()\n",
    "    \n",
    "    self.in_channels = in_channels\n",
    "    self.conv1 = nn.Conv2d(in_channels=1182, out_channels=128, kernel_size=(16,17), padding=(4,5))\n",
    "    \n",
    "    # First Dense Net Block\n",
    "    self.DenseBlock1 = DenseBlock(128)\n",
    "    \n",
    "    # Second Dense Net Block\n",
    "    self.DenseBlock2 = DenseBlock(256)\n",
    "    \n",
    "    # Third Dense Net Block\n",
    "    self.DenseBlock3 = DenseBlock(512)\n",
    "    \n",
    "    # Transition Block 1\n",
    "    self.pos_dense1 = nn.Sequential(\n",
    "          nn.BatchNorm2d(128),\n",
    "          nn.ReLU(inplace=True),\n",
    "          nn.Conv2d(in_channels=128,out_channels=256,kernel_size=(1,1)),\n",
    "          nn.MaxPool2d(1,4))\n",
    "    \n",
    "    # Transition Block 2\n",
    "    self.pos_dense2 = nn.Sequential(\n",
    "          nn.BatchNorm2d(256),\n",
    "          nn.ReLU(inplace=True),\n",
    "          nn.Conv2d(in_channels=256,out_channels=512,kernel_size=(1,1), stride=2),\n",
    "          nn.MaxPool2d(1,4))\n",
    "    \n",
    "    # Transition Block 3\n",
    "    self.pos_dense3 = nn.Sequential(\n",
    "          nn.BatchNorm2d(512),\n",
    "          nn.ReLU(inplace=True),\n",
    "          nn.Conv2d(in_channels=512,out_channels=1024,kernel_size=(1,1),stride=3),\n",
    "          nn.MaxPool2d(1,4))\n",
    "    \n",
    "    # Final linear layer, can be used with a Flatten Layer \n",
    "    self.f= nn.Flatten()\n",
    "    self.Linear = nn.Linear(1024, 13)\n",
    "      \n",
    "  def forward(self, input):\n",
    "    out = self.conv1(input)\n",
    "    \n",
    "#     weight = self.conv1.weight.data.cpu().numpy()\n",
    "\n",
    "    out= self.DenseBlock1(out)\n",
    "\n",
    "    out= self.pos_dense1(out)\n",
    "\n",
    "    out= self.DenseBlock2(out)\n",
    "\n",
    "    out = self.pos_dense2(out)\n",
    "\n",
    "    out= self.DenseBlock3(out)\n",
    "    \n",
    "    out = self.pos_dense3(out)\n",
    "    \n",
    "    logits = self.f(out)\n",
    "    \n",
    "    logits= self.Linear(logits)\n",
    "\n",
    "\n",
    "    return logits\n",
    "\n",
    "'''\n",
    "    Type: Class DenseBlock\n",
    "          Contains Batch Normalization, ReLU, Conv2D\n",
    "          \n",
    "    Input: Declaration: Num of input channels \n",
    "           Forward: Output of previous layer\n",
    "    \n",
    "    Can be used before transition blocks or other layers\n",
    "'''\n",
    "class DenseBlock(nn.Module):\n",
    "  def __init__(self, num_features):\n",
    "    super(DenseBlock, self).__init__()\n",
    "\n",
    "    self.Block1 = Block(num_features) # applies relu and BN\n",
    "    self.Block2 = Block(num_features)\n",
    "\n",
    "  def forward(self, o_input):\n",
    "\n",
    "    block1_res = self.Block1(o_input)\n",
    "    block2_res = (torch.cat((block1_res, o_input), dim=2)) # o_inpu (concat) block1res\n",
    "\n",
    "    return  torch.cat((block1_res, block2_res, o_input), dim=2) # concat, block1_res, block2_res, o_input\n",
    "\n",
    "'''\n",
    "    Type: Block Class\n",
    "    \n",
    "    Input: Declaration: Num of input channels \n",
    "           Forward: Output of the previous layer\n",
    "           \n",
    "    return: Concatenated input and output of the BN, ReLU, Conv2D\n",
    "'''\n",
    "\n",
    "class Block(nn.Module):\n",
    "  def __init__(self, num_features):\n",
    "    super(Block, self).__init__()\n",
    "    self.num_features = num_features\n",
    "\n",
    "    self.BN = nn.BatchNorm2d(self.num_features) # try 2d\n",
    "    self.conv1 = nn.Conv2d(in_channels=self.num_features, out_channels=num_features, kernel_size=(16,17), padding=(6,8))\n",
    "  \n",
    "  def forward(self, input):\n",
    "    res_relu = f.relu(self.BN(input))\n",
    "    res_relu_conv = self.conv1(input)\n",
    "#     print(\"w c block\",self.conv1.weight.data.cpu().numpy().shape)\n",
    "\n",
    "    return res_relu_conv"
   ]
  },
  {
   "cell_type": "markdown",
   "metadata": {},
   "source": [
    "# Initializaiton of Model, Optimizer, Loss function "
   ]
  },
  {
   "cell_type": "code",
   "execution_count": 12,
   "metadata": {
    "id": "QCPdl3wT9VPC"
   },
   "outputs": [],
   "source": [
    "model = RPCNet(1182)\n",
    "model=model.cuda()\n",
    "optimizer = torch.optim.Adam(model.parameters(), lr=0.001)\n",
    "loss_function = nn.CrossEntropyLoss()"
   ]
  },
  {
   "cell_type": "markdown",
   "metadata": {},
   "source": [
    "# Train Loop"
   ]
  },
  {
   "cell_type": "code",
   "execution_count": 13,
   "metadata": {
    "colab": {
     "base_uri": "https://localhost:8080/"
    },
    "id": "w70Z1THM1H59",
    "outputId": "59c8053b-8905-489f-f509-0b177dbe98ce"
   },
   "outputs": [
    {
     "name": "stdout",
     "output_type": "stream",
     "text": [
      "Iter : 0  Train Loss : 2.5713031292\n",
      "Iter : 50  Train Loss : 2.58723950386\n",
      "Iter : 100  Train Loss : 2.60588026047\n",
      "Iter : 150  Train Loss : 2.59415745735\n",
      "Epoch  0 :   Train Loss : 2.61467716911  Accuracy : 7.48417721519\n",
      "Iter : 0  Train Loss : 2.55360889435\n",
      "Iter : 50  Train Loss : 2.5508286953\n",
      "Iter : 100  Train Loss : 2.56761574745\n",
      "Iter : 150  Train Loss : 2.56127548218\n",
      "Epoch  1 :   Train Loss : 2.56952546221  Accuracy : 7.70569620253\n",
      "Iter : 0  Train Loss : 2.55078101158\n",
      "Iter : 50  Train Loss : 2.58636498451\n",
      "Iter : 100  Train Loss : 2.56652545929\n",
      "Iter : 150  Train Loss : 2.55238771439\n",
      "Epoch  2 :   Train Loss : 2.56415418543  Accuracy : 7.56329113924\n",
      "Iter : 0  Train Loss : 2.54021525383\n",
      "Iter : 50  Train Loss : 2.59030914307\n",
      "Iter : 100  Train Loss : 2.56622266769\n",
      "Iter : 150  Train Loss : 2.55183744431\n",
      "Epoch  3 :   Train Loss : 2.56411964364  Accuracy : 7.73734177215\n",
      "Iter : 0  Train Loss : 2.54016566277\n",
      "Iter : 50  Train Loss : 2.59009337425\n",
      "Iter : 100  Train Loss : 2.56610107422\n",
      "Iter : 150  Train Loss : 2.5515666008\n",
      "Epoch  4 :   Train Loss : 2.56399977087  Accuracy : 7.78481012658\n",
      "Iter : 0  Train Loss : 2.54061841965\n",
      "Iter : 50  Train Loss : 2.58985424042\n",
      "Iter : 100  Train Loss : 2.56611514091\n",
      "Iter : 150  Train Loss : 2.55124735832\n",
      "Epoch  5 :   Train Loss : 2.56387872166  Accuracy : 7.8164556962\n",
      "Iter : 0  Train Loss : 2.54101371765\n",
      "Iter : 50  Train Loss : 2.58971452713\n",
      "Iter : 100  Train Loss : 2.56619119644\n",
      "Iter : 150  Train Loss : 2.55091428757\n",
      "Epoch  6 :   Train Loss : 2.56377803918  Accuracy : 7.80063291139\n",
      "Iter : 0  Train Loss : 2.54128813744\n",
      "Iter : 50  Train Loss : 2.58965921402\n",
      "Iter : 100  Train Loss : 2.56626915932\n",
      "Iter : 150  Train Loss : 2.55055880547\n",
      "Epoch  7 :   Train Loss : 2.56369977407  Accuracy : 7.8164556962\n",
      "Iter : 0  Train Loss : 2.54145026207\n",
      "Iter : 50  Train Loss : 2.58962535858\n",
      "Iter : 100  Train Loss : 2.56630635262\n",
      "Iter : 150  Train Loss : 2.55014395714\n",
      "Epoch  8 :   Train Loss : 2.56363864017  Accuracy : 7.91139240506\n",
      "Iter : 0  Train Loss : 2.54151844978\n",
      "Iter : 50  Train Loss : 2.58954644203\n",
      "Iter : 100  Train Loss : 2.56628060341\n",
      "Iter : 150  Train Loss : 2.54963445663\n",
      "Epoch  9 :   Train Loss : 2.56358835553  Accuracy : 7.87974683544\n",
      "Iter : 0  Train Loss : 2.54150652885\n",
      "Iter : 50  Train Loss : 2.58939242363\n",
      "Iter : 100  Train Loss : 2.56619334221\n",
      "Iter : 150  Train Loss : 2.54903411865\n",
      "Epoch  10 :   Train Loss : 2.56354341603  Accuracy : 7.8164556962\n",
      "Iter : 0  Train Loss : 2.54142904282\n",
      "Iter : 50  Train Loss : 2.58918356895\n",
      "Iter : 100  Train Loss : 2.56607413292\n",
      "Iter : 150  Train Loss : 2.54839849472\n",
      "Epoch  11 :   Train Loss : 2.56350039713  Accuracy : 7.91139240506\n",
      "Iter : 0  Train Loss : 2.54131197929\n",
      "Iter : 50  Train Loss : 2.58897781372\n",
      "Iter : 100  Train Loss : 2.56597542763\n",
      "Iter : 150  Train Loss : 2.54781723022\n",
      "Epoch  12 :   Train Loss : 2.56345826448  Accuracy : 7.86392405063\n",
      "Iter : 0  Train Loss : 2.54119491577\n",
      "Iter : 50  Train Loss : 2.58882308006\n",
      "Iter : 100  Train Loss : 2.56594204903\n",
      "Iter : 150  Train Loss : 2.54736042023\n",
      "Epoch  13 :   Train Loss : 2.56341663394  Accuracy : 7.56329113924\n",
      "Iter : 0  Train Loss : 2.54111599922\n",
      "Iter : 50  Train Loss : 2.58875131607\n",
      "Iter : 100  Train Loss : 2.56603550911\n",
      "Iter : 150  Train Loss : 2.54710435867\n",
      "Epoch  14 :   Train Loss : 2.56337768261  Accuracy : 7.75316455696\n",
      "Iter : 0  Train Loss : 2.54113459587\n"
     ]
    },
    {
     "ename": "KeyboardInterrupt",
     "evalue": "",
     "output_type": "error",
     "traceback": [
      "\u001b[0;31m---------------------------------------------------------------------------\u001b[0m",
      "\u001b[0;31mKeyboardInterrupt\u001b[0m                         Traceback (most recent call last)",
      "\u001b[0;32m<ipython-input-13-66c354b8daa6>\u001b[0m in \u001b[0;36m<module>\u001b[0;34m()\u001b[0m\n\u001b[1;32m      9\u001b[0m         \u001b[0mx\u001b[0m\u001b[0;34m,\u001b[0m\u001b[0my\u001b[0m\u001b[0;34m=\u001b[0m\u001b[0mbatch\u001b[0m\u001b[0;34m\u001b[0m\u001b[0m\n\u001b[1;32m     10\u001b[0m         \u001b[0mlogits\u001b[0m \u001b[0;34m=\u001b[0m \u001b[0mmodel\u001b[0m\u001b[0;34m(\u001b[0m\u001b[0mx\u001b[0m\u001b[0;34m.\u001b[0m\u001b[0mcuda\u001b[0m\u001b[0;34m(\u001b[0m\u001b[0;34m)\u001b[0m\u001b[0;34m)\u001b[0m\u001b[0;34m\u001b[0m\u001b[0m\n\u001b[0;32m---> 11\u001b[0;31m         \u001b[0mloss\u001b[0m \u001b[0;34m=\u001b[0m \u001b[0mloss_function\u001b[0m\u001b[0;34m(\u001b[0m\u001b[0mlogits\u001b[0m\u001b[0;34m,\u001b[0m\u001b[0my\u001b[0m\u001b[0;34m.\u001b[0m\u001b[0mcuda\u001b[0m\u001b[0;34m(\u001b[0m\u001b[0;34m)\u001b[0m\u001b[0;34m)\u001b[0m\u001b[0;34m\u001b[0m\u001b[0m\n\u001b[0m\u001b[1;32m     12\u001b[0m         \u001b[0moptimizer\u001b[0m\u001b[0;34m.\u001b[0m\u001b[0mzero_grad\u001b[0m\u001b[0;34m(\u001b[0m\u001b[0;34m)\u001b[0m\u001b[0;34m\u001b[0m\u001b[0m\n\u001b[1;32m     13\u001b[0m         \u001b[0mloss\u001b[0m\u001b[0;34m.\u001b[0m\u001b[0mbackward\u001b[0m\u001b[0;34m(\u001b[0m\u001b[0;34m)\u001b[0m\u001b[0;34m\u001b[0m\u001b[0m\n",
      "\u001b[0;31mKeyboardInterrupt\u001b[0m: "
     ]
    }
   ],
   "source": [
    "total_loss_e = 0.0\n",
    "\n",
    "plot_loss = []\n",
    "for epoch in range(35):\n",
    "    total_loss_i = 0\n",
    "    total=0.0\n",
    "    correct=0.0\n",
    "    for i, batch in enumerate(train_dataloader):\n",
    "        x,y=batch\n",
    "        logits = model(x.cuda())\n",
    "        loss = loss_function(logits,y.cuda())\n",
    "        optimizer.zero_grad()\n",
    "        loss.backward()\n",
    "        optimizer.step()\n",
    "        total_loss_i += loss.item()\n",
    "        \n",
    "        _, predicted = torch.max(logits.data, 1)\n",
    "        total += y.size(0)\n",
    "        correct += (predicted.cpu() == y).sum().item()\n",
    "        if i%50 ==0:\n",
    "            print(\"Iter : {}  Train Loss : {}\".format(i,loss.item()))\n",
    "    total_loss_e+=total_loss_i/len(train_dataloader)\n",
    "    print(\"Epoch  {} :   Train Loss : {}  Accuracy : {}\".format(epoch, total_loss_e, (100 * (correct / total))))\n",
    "    plot_loss.append(total_loss_e)\n",
    "    total_loss_e=0\n",
    "    \n",
    "\n",
    "    \n",
    "\n"
   ]
  },
  {
   "cell_type": "code",
   "execution_count": 425,
   "metadata": {
    "id": "Y_-KiuH9911J"
   },
   "outputs": [
    {
     "data": {
      "image/png": "[encoded data removed]",
      "text/plain": [
       "<Figure size 432x288 with 1 Axes>"
      ]
     },
     "metadata": {
      "needs_background": "light"
     },
     "output_type": "display_data"
    }
   ],
   "source": [
    "import matplotlib.pyplot as plt\n",
    "plt.plot(plot_loss)\n",
    "plt.show()"
   ]
  },
  {
   "cell_type": "code",
   "execution_count": null,
   "metadata": {},
   "outputs": [],
   "source": []
  },
  {
   "cell_type": "code",
   "execution_count": 426,
   "metadata": {},
   "outputs": [
    {
     "name": "stdout",
     "output_type": "stream",
     "text": [
      "Iter : 0  Test Loss : 3.13232660294\n",
      "Iter : 1  Test Loss : 2.0720872879\n",
      "Iter : 2  Test Loss : 2.15397286415\n",
      "Iter : 3  Test Loss : 2.55477499962\n",
      "Iter : 4  Test Loss : 2.52595114708\n",
      "Iter : 5  Test Loss : 1.34941959381\n",
      "Iter : 6  Test Loss : 0.605288505554\n",
      "Iter : 7  Test Loss : 3.10459494591\n",
      "Iter : 8  Test Loss : 1.05646944046\n",
      "Iter : 9  Test Loss : 1.77898013592\n",
      "Iter : 10  Test Loss : 3.73812460899\n",
      "Iter : 11  Test Loss : 2.36242675781\n",
      "Iter : 12  Test Loss : 2.8255879879\n",
      "Iter : 13  Test Loss : 2.22934389114\n",
      "Iter : 14  Test Loss : 4.49784231186\n",
      "Iter : 15  Test Loss : 2.48330259323\n",
      "Iter : 16  Test Loss : 1.13705301285\n",
      "Iter : 17  Test Loss : 3.67113828659\n",
      "Iter : 18  Test Loss : 2.26736903191\n",
      "Iter : 19  Test Loss : 2.38937711716\n",
      "Iter : 20  Test Loss : 3.86079454422\n",
      "Iter : 21  Test Loss : 1.9809910059\n",
      "Iter : 22  Test Loss : 2.32371592522\n",
      "Iter : 23  Test Loss : 2.6198015213\n",
      "Iter : 24  Test Loss : 3.16245865822\n",
      "Iter : 25  Test Loss : 2.20257115364\n",
      "Iter : 26  Test Loss : 1.20656847954\n",
      "Iter : 27  Test Loss : 1.1062964201\n",
      "Iter : 28  Test Loss : 3.64655303955\n",
      "Iter : 29  Test Loss : 3.03356575966\n",
      "Iter : 30  Test Loss : 1.49689650536\n",
      "Iter : 31  Test Loss : 1.99918985367\n",
      "Iter : 32  Test Loss : 1.3974006176\n",
      "Iter : 33  Test Loss : 2.7018597126\n",
      "Iter : 34  Test Loss : 1.24141407013\n",
      "Iter : 35  Test Loss : 1.00852739811\n",
      "Iter : 36  Test Loss : 3.47201013565\n",
      "Iter : 37  Test Loss : 3.30791044235\n",
      "Iter : 38  Test Loss : 2.27081131935\n",
      "Iter : 39  Test Loss : 1.74048054218\n",
      "Iter : 40  Test Loss : 1.8883728981\n",
      "Iter : 41  Test Loss : 0.914104759693\n",
      "Iter : 42  Test Loss : 1.6903744936\n",
      "Iter : 43  Test Loss : 1.27614164352\n",
      "Iter : 44  Test Loss : 1.43368387222\n",
      "Iter : 45  Test Loss : 3.38726091385\n",
      "Iter : 46  Test Loss : 2.237844944\n",
      "Iter : 47  Test Loss : 2.09204602242\n",
      "Iter : 48  Test Loss : 1.44501101971\n",
      "Iter : 49  Test Loss : 0.676132321358\n",
      "Iter : 50  Test Loss : 1.55909013748\n",
      "Iter : 51  Test Loss : 1.58667933941\n",
      "Iter : 52  Test Loss : 1.23052334785\n",
      "Iter : 53  Test Loss : 2.13376665115\n",
      "Iter : 54  Test Loss : 2.77069425583\n",
      "Iter : 55  Test Loss : 2.60242724419\n",
      "Iter : 56  Test Loss : 2.91408061981\n",
      "Iter : 57  Test Loss : 1.41122674942\n",
      "Iter : 58  Test Loss : 2.02744007111\n",
      "Iter : 59  Test Loss : 1.10031318665\n",
      "Iter : 60  Test Loss : 4.37346553802\n",
      "Iter : 61  Test Loss : 2.71126484871\n",
      "Iter : 62  Test Loss : 2.5697851181\n",
      "Iter : 63  Test Loss : 2.34673595428\n",
      "Iter : 64  Test Loss : 1.59991014004\n",
      "Iter : 65  Test Loss : 2.77976155281\n",
      "Iter : 66  Test Loss : 0.649642527103\n",
      "Iter : 67  Test Loss : 3.3680460453\n",
      "Iter : 68  Test Loss : 1.0299936533\n",
      "Iter : 69  Test Loss : 1.75304055214\n",
      "Iter : 70  Test Loss : 1.95178723335\n",
      "Iter : 71  Test Loss : 1.81125080585\n",
      "Iter : 72  Test Loss : 2.99854135513\n",
      "Iter : 73  Test Loss : 1.93654060364\n",
      "Iter : 74  Test Loss : 3.44684481621\n",
      "Iter : 75  Test Loss : 3.26920843124\n",
      "Iter : 76  Test Loss : 1.47215199471\n",
      "Iter : 77  Test Loss : 2.85229969025\n",
      "Iter : 78  Test Loss : 2.16192293167\n",
      "Iter : 79  Test Loss : 3.52166986465\n",
      "Iter : 80  Test Loss : 2.31825828552\n",
      "Iter : 81  Test Loss : 0.992331802845\n",
      " Accuracy : 73.5\n"
     ]
    }
   ],
   "source": [
    "total_loss_i = 0\n",
    "total=0.0\n",
    "correct=0.0\n",
    "model.eval()\n",
    "for i, batch in enumerate(test_dataloader):\n",
    "    x,y=batch\n",
    "    logits = model(x.cuda())\n",
    "    loss = loss_function(logits,y.cuda())\n",
    "    total_loss_i += loss.item()\n",
    "    _, predicted = torch.max(logits.data, 1)\n",
    "    total += y.size(0)\n",
    "    correct += (predicted.cpu() == y).sum().item()\n",
    "    print(\"Iter : {}  Test Loss : {}\".format(i,loss.item()))\n",
    "    \n",
    "# total_loss_e+=total_loss_i/len(test_dataloader)\n",
    "print(\" Accuracy : {}\".format( (100 * (correct / total))))\n"
   ]
  },
  {
   "cell_type": "markdown",
   "metadata": {},
   "source": [
    "# Test the Model"
   ]
  },
  {
   "cell_type": "code",
   "execution_count": 422,
   "metadata": {},
   "outputs": [
    {
     "name": "stdout",
     "output_type": "stream",
     "text": [
      "('Ground Truth:', tensor([ 4,  6,  3,  8,  2,  0,  9,  5,  6, 10, 11,  6,  6,  1,  3,  8,  6, 12,\n",
      "         3,  0,  9,  2, 12,  0,  5,  5,  5,  4,  5,  0,  1, 11]))\n",
      "('Predictions', torch.return_types.max(\n",
      "values=tensor([  8.3251, 239.5512,   5.7021,   4.3910,   3.8289,  87.0343,   6.7769,\n",
      "         42.1633, 161.4510,  11.5735,  14.7361, 197.1506, 179.5288,  86.1905,\n",
      "          7.6681,  10.0813, 188.8158,  40.2853,   7.4610, 137.8160,  13.0781,\n",
      "          5.0340,  44.5286, 106.9364,  15.0015,   8.0289,  10.4616,  10.9617,\n",
      "         12.2319,  93.6111,  96.9654,  15.8233], device='cuda:0',\n",
      "       grad_fn=<MaxBackward0>),\n",
      "indices=tensor([ 9,  6,  8,  8,  0,  0,  9,  5,  6,  3,  3,  6,  6,  1,  3,  2,  6, 12,\n",
      "         3,  0,  5,  9, 12,  0,  5,  9, 10,  9,  4,  0,  1, 11],\n",
      "       device='cuda:0')))\n"
     ]
    }
   ],
   "source": [
    "x,y = next(iter(test_dataloader))\n",
    "print(\"Ground Truth:\", y)\n",
    "new_arr = x.cuda()\n",
    "preds = model(new_arr)\n",
    "print(\"Predictions\", torch.max(preds, dim =1 ))\n"
   ]
  },
  {
   "cell_type": "code",
   "execution_count": null,
   "metadata": {},
   "outputs": [],
   "source": []
  }
 ],
 "metadata": {
  "colab": {
   "collapsed_sections": [],
   "name": "Untitled27.ipynb",
   "provenance": []
  },
  "kernelspec": {
   "display_name": "Python 3",
   "language": "python",
   "name": "python3"
  },
  "language_info": {
   "codemirror_mode": {
    "name": "ipython",
    "version": 2
   },
   "file_extension": ".py",
   "mimetype": "text/x-python",
   "name": "python",
   "nbconvert_exporter": "python",
   "pygments_lexer": "ipython2",
   "version": "2.7.17"
  }
 },
 "nbformat": 4,
 "nbformat_minor": 2
}
